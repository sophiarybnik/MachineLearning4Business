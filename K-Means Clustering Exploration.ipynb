{
 "cells": [
  {
   "cell_type": "code",
   "execution_count": 55,
   "metadata": {},
   "outputs": [],
   "source": [
    "from sklearn.cluster import KMeans\n",
    "import pandas as pd\n",
    "from sklearn.metrics import silhouette_samples, silhouette_score\n",
    "from sklearn.preprocessing import MinMaxScaler\n",
    "\n",
    "%matplotlib inline\n",
    "from matplotlib import pyplot as plt\n",
    "\n",
    "from mpl_toolkits.mplot3d import Axes3D\n",
    "import matplotlib.pyplot as plt\n",
    "import matplotlib.cm as cm\n",
    "import matplotlib.colors as clrs"
   ]
  },
  {
   "cell_type": "markdown",
   "metadata": {},
   "source": [
    "# Years of Experience & Salary (Exploratory)"
   ]
  },
  {
   "cell_type": "code",
   "execution_count": 56,
   "metadata": {},
   "outputs": [
    {
     "data": {
      "text/html": [
       "<div>\n",
       "<style scoped>\n",
       "    .dataframe tbody tr th:only-of-type {\n",
       "        vertical-align: middle;\n",
       "    }\n",
       "\n",
       "    .dataframe tbody tr th {\n",
       "        vertical-align: top;\n",
       "    }\n",
       "\n",
       "    .dataframe thead th {\n",
       "        text-align: right;\n",
       "    }\n",
       "</style>\n",
       "<table border=\"1\" class=\"dataframe\">\n",
       "  <thead>\n",
       "    <tr style=\"text-align: right;\">\n",
       "      <th></th>\n",
       "      <th>YearsExperience</th>\n",
       "      <th>Salary</th>\n",
       "    </tr>\n",
       "  </thead>\n",
       "  <tbody>\n",
       "    <tr>\n",
       "      <th>0</th>\n",
       "      <td>1.1</td>\n",
       "      <td>39343.0</td>\n",
       "    </tr>\n",
       "    <tr>\n",
       "      <th>1</th>\n",
       "      <td>1.3</td>\n",
       "      <td>46205.0</td>\n",
       "    </tr>\n",
       "    <tr>\n",
       "      <th>2</th>\n",
       "      <td>1.5</td>\n",
       "      <td>37731.0</td>\n",
       "    </tr>\n",
       "    <tr>\n",
       "      <th>3</th>\n",
       "      <td>2.0</td>\n",
       "      <td>43525.0</td>\n",
       "    </tr>\n",
       "    <tr>\n",
       "      <th>4</th>\n",
       "      <td>2.2</td>\n",
       "      <td>39891.0</td>\n",
       "    </tr>\n",
       "    <tr>\n",
       "      <th>5</th>\n",
       "      <td>2.9</td>\n",
       "      <td>56642.0</td>\n",
       "    </tr>\n",
       "    <tr>\n",
       "      <th>6</th>\n",
       "      <td>3.0</td>\n",
       "      <td>60150.0</td>\n",
       "    </tr>\n",
       "    <tr>\n",
       "      <th>7</th>\n",
       "      <td>3.2</td>\n",
       "      <td>54445.0</td>\n",
       "    </tr>\n",
       "    <tr>\n",
       "      <th>8</th>\n",
       "      <td>3.2</td>\n",
       "      <td>64445.0</td>\n",
       "    </tr>\n",
       "    <tr>\n",
       "      <th>9</th>\n",
       "      <td>3.7</td>\n",
       "      <td>57189.0</td>\n",
       "    </tr>\n",
       "    <tr>\n",
       "      <th>10</th>\n",
       "      <td>3.9</td>\n",
       "      <td>63218.0</td>\n",
       "    </tr>\n",
       "    <tr>\n",
       "      <th>11</th>\n",
       "      <td>4.0</td>\n",
       "      <td>55794.0</td>\n",
       "    </tr>\n",
       "    <tr>\n",
       "      <th>12</th>\n",
       "      <td>4.0</td>\n",
       "      <td>56957.0</td>\n",
       "    </tr>\n",
       "    <tr>\n",
       "      <th>13</th>\n",
       "      <td>4.1</td>\n",
       "      <td>57081.0</td>\n",
       "    </tr>\n",
       "    <tr>\n",
       "      <th>14</th>\n",
       "      <td>4.5</td>\n",
       "      <td>61111.0</td>\n",
       "    </tr>\n",
       "    <tr>\n",
       "      <th>15</th>\n",
       "      <td>4.9</td>\n",
       "      <td>67938.0</td>\n",
       "    </tr>\n",
       "    <tr>\n",
       "      <th>16</th>\n",
       "      <td>5.1</td>\n",
       "      <td>66029.0</td>\n",
       "    </tr>\n",
       "    <tr>\n",
       "      <th>17</th>\n",
       "      <td>5.3</td>\n",
       "      <td>83088.0</td>\n",
       "    </tr>\n",
       "    <tr>\n",
       "      <th>18</th>\n",
       "      <td>5.9</td>\n",
       "      <td>81363.0</td>\n",
       "    </tr>\n",
       "    <tr>\n",
       "      <th>19</th>\n",
       "      <td>6.0</td>\n",
       "      <td>93940.0</td>\n",
       "    </tr>\n",
       "    <tr>\n",
       "      <th>20</th>\n",
       "      <td>6.8</td>\n",
       "      <td>91738.0</td>\n",
       "    </tr>\n",
       "    <tr>\n",
       "      <th>21</th>\n",
       "      <td>7.1</td>\n",
       "      <td>98273.0</td>\n",
       "    </tr>\n",
       "    <tr>\n",
       "      <th>22</th>\n",
       "      <td>7.9</td>\n",
       "      <td>101302.0</td>\n",
       "    </tr>\n",
       "    <tr>\n",
       "      <th>23</th>\n",
       "      <td>8.2</td>\n",
       "      <td>113812.0</td>\n",
       "    </tr>\n",
       "    <tr>\n",
       "      <th>24</th>\n",
       "      <td>8.7</td>\n",
       "      <td>109431.0</td>\n",
       "    </tr>\n",
       "    <tr>\n",
       "      <th>25</th>\n",
       "      <td>9.0</td>\n",
       "      <td>105582.0</td>\n",
       "    </tr>\n",
       "    <tr>\n",
       "      <th>26</th>\n",
       "      <td>9.5</td>\n",
       "      <td>116969.0</td>\n",
       "    </tr>\n",
       "    <tr>\n",
       "      <th>27</th>\n",
       "      <td>9.6</td>\n",
       "      <td>112635.0</td>\n",
       "    </tr>\n",
       "    <tr>\n",
       "      <th>28</th>\n",
       "      <td>10.3</td>\n",
       "      <td>122391.0</td>\n",
       "    </tr>\n",
       "    <tr>\n",
       "      <th>29</th>\n",
       "      <td>10.5</td>\n",
       "      <td>121872.0</td>\n",
       "    </tr>\n",
       "  </tbody>\n",
       "</table>\n",
       "</div>"
      ],
      "text/plain": [
       "    YearsExperience    Salary\n",
       "0               1.1   39343.0\n",
       "1               1.3   46205.0\n",
       "2               1.5   37731.0\n",
       "3               2.0   43525.0\n",
       "4               2.2   39891.0\n",
       "5               2.9   56642.0\n",
       "6               3.0   60150.0\n",
       "7               3.2   54445.0\n",
       "8               3.2   64445.0\n",
       "9               3.7   57189.0\n",
       "10              3.9   63218.0\n",
       "11              4.0   55794.0\n",
       "12              4.0   56957.0\n",
       "13              4.1   57081.0\n",
       "14              4.5   61111.0\n",
       "15              4.9   67938.0\n",
       "16              5.1   66029.0\n",
       "17              5.3   83088.0\n",
       "18              5.9   81363.0\n",
       "19              6.0   93940.0\n",
       "20              6.8   91738.0\n",
       "21              7.1   98273.0\n",
       "22              7.9  101302.0\n",
       "23              8.2  113812.0\n",
       "24              8.7  109431.0\n",
       "25              9.0  105582.0\n",
       "26              9.5  116969.0\n",
       "27              9.6  112635.0\n",
       "28             10.3  122391.0\n",
       "29             10.5  121872.0"
      ]
     },
     "execution_count": 56,
     "metadata": {},
     "output_type": "execute_result"
    }
   ],
   "source": [
    "df = pd.read_csv('C:\\\\Users\\\\Sophia\\\\Downloads\\\\archive\\\\Salary_Data.csv')\n",
    "df"
   ]
  },
  {
   "cell_type": "code",
   "execution_count": 57,
   "metadata": {},
   "outputs": [
    {
     "data": {
      "text/plain": [
       "<matplotlib.collections.PathCollection at 0x21565fa9f40>"
      ]
     },
     "execution_count": 57,
     "metadata": {},
     "output_type": "execute_result"
    },
    {
     "data": {
      "image/png": "[encoded data removed]",
      "text/plain": [
       "<Figure size 432x288 with 1 Axes>"
      ]
     },
     "metadata": {
      "needs_background": "light"
     },
     "output_type": "display_data"
    }
   ],
   "source": [
    "plt.scatter(df['YearsExperience'], df['Salary'] )\n",
    "#distinct clusters are not visible at first glance"
   ]
  },
  {
   "cell_type": "code",
   "execution_count": 58,
   "metadata": {},
   "outputs": [],
   "source": [
    "k_rng = range(1,10)\n",
    "sse = []\n",
    "for k in k_rng:\n",
    "    km = KMeans(n_clusters = k)\n",
    "    km.fit(df[['YearsExperience', 'Salary']])\n",
    "    sse.append(km.inertia_ )"
   ]
  },
  {
   "cell_type": "code",
   "execution_count": 59,
   "metadata": {},
   "outputs": [
    {
     "data": {
      "text/plain": [
       "Text(0.5, 1.0, 'Elbow Method to Find K')"
      ]
     },
     "execution_count": 59,
     "metadata": {},
     "output_type": "execute_result"
    },
    {
     "data": {
      "image/png": "[encoded data removed]",
      "text/plain": [
       "<Figure size 432x288 with 1 Axes>"
      ]
     },
     "metadata": {
      "needs_background": "light"
     },
     "output_type": "display_data"
    }
   ],
   "source": [
    "plt.plot(k_rng,sse, marker = '.')\n",
    "plt.xlabel('K')\n",
    "plt.ylabel('Sum of Squared Error')\n",
    "plt.title('Elbow Method to Find K')"
   ]
  },
  {
   "cell_type": "code",
   "execution_count": 60,
   "metadata": {},
   "outputs": [
    {
     "data": {
      "text/plain": [
       "array([0, 0, 0, 0, 0, 2, 2, 2, 2, 2, 2, 2, 2, 2, 2, 2, 2, 1, 1, 1, 1, 1,\n",
       "       1, 3, 3, 3, 3, 3, 3, 3])"
      ]
     },
     "execution_count": 60,
     "metadata": {},
     "output_type": "execute_result"
    }
   ],
   "source": [
    "km = KMeans(n_clusters = 4)\n",
    "y_predicted = km.fit_predict(df[['YearsExperience', 'Salary']])\n",
    "y_predicted"
   ]
  },
  {
   "cell_type": "code",
   "execution_count": 61,
   "metadata": {},
   "outputs": [
    {
     "data": {
      "text/plain": [
       "<matplotlib.legend.Legend at 0x2156720d160>"
      ]
     },
     "execution_count": 61,
     "metadata": {},
     "output_type": "execute_result"
    },
    {
     "data": {
      "image/png": "[encoded data removed]",
      "text/plain": [
       "<Figure size 432x288 with 1 Axes>"
      ]
     },
     "metadata": {
      "needs_background": "light"
     },
     "output_type": "display_data"
    }
   ],
   "source": [
    "df['Cluster'] = y_predicted #appending cluster assigning column\n",
    "df1 =df[df.Cluster == 0]\n",
    "df2 =df[df.Cluster == 1]\n",
    "df3 =df[df.Cluster == 2]\n",
    "df4 =df[df.Cluster == 3]\n",
    "#plotting all on same graph\n",
    "plt.scatter(df1.YearsExperience, df1['Salary'], color = 'red')\n",
    "plt.scatter(df2.YearsExperience, df2['Salary'], color = 'green')\n",
    "plt.scatter(df3.YearsExperience, df3['Salary'], color = 'blue')\n",
    "plt.scatter(df4.YearsExperience, df4['Salary'], color = 'black')\n",
    "\n",
    "plt.scatter(km.cluster_centers_[:,0],km.cluster_centers_[:,1], color = 'purple', marker = '*', label = 'centroid')\n",
    "\n",
    "plt.xlabel('Years of Experience')\n",
    "plt.ylabel('Salary ($)')\n",
    "plt.legend()\n"
   ]
  },
  {
   "cell_type": "markdown",
   "metadata": {},
   "source": [
    "# Country Risk Rating (Multi-Feature & Scaling)"
   ]
  },
  {
   "cell_type": "markdown",
   "metadata": {},
   "source": [
    "Exploratory Analysis"
   ]
  },
  {
   "cell_type": "code",
   "execution_count": 110,
   "metadata": {},
   "outputs": [
    {
     "data": {
      "text/html": [
       "<div>\n",
       "<style scoped>\n",
       "    .dataframe tbody tr th:only-of-type {\n",
       "        vertical-align: middle;\n",
       "    }\n",
       "\n",
       "    .dataframe tbody tr th {\n",
       "        vertical-align: top;\n",
       "    }\n",
       "\n",
       "    .dataframe thead th {\n",
       "        text-align: right;\n",
       "    }\n",
       "</style>\n",
       "<table border=\"1\" class=\"dataframe\">\n",
       "  <thead>\n",
       "    <tr style=\"text-align: right;\">\n",
       "      <th></th>\n",
       "      <th>Country</th>\n",
       "      <th>Abbrev</th>\n",
       "      <th>Corruption</th>\n",
       "      <th>Peace</th>\n",
       "      <th>Legal</th>\n",
       "      <th>GDP Growth</th>\n",
       "    </tr>\n",
       "  </thead>\n",
       "  <tbody>\n",
       "    <tr>\n",
       "      <th>0</th>\n",
       "      <td>Albania</td>\n",
       "      <td>AL</td>\n",
       "      <td>35</td>\n",
       "      <td>1.821</td>\n",
       "      <td>4.546</td>\n",
       "      <td>2.983</td>\n",
       "    </tr>\n",
       "    <tr>\n",
       "      <th>1</th>\n",
       "      <td>Algeria</td>\n",
       "      <td>DZ</td>\n",
       "      <td>35</td>\n",
       "      <td>2.219</td>\n",
       "      <td>4.435</td>\n",
       "      <td>2.553</td>\n",
       "    </tr>\n",
       "    <tr>\n",
       "      <th>2</th>\n",
       "      <td>Argentina</td>\n",
       "      <td>AR</td>\n",
       "      <td>45</td>\n",
       "      <td>1.989</td>\n",
       "      <td>5.087</td>\n",
       "      <td>-3.061</td>\n",
       "    </tr>\n",
       "    <tr>\n",
       "      <th>3</th>\n",
       "      <td>Armenia</td>\n",
       "      <td>AM</td>\n",
       "      <td>42</td>\n",
       "      <td>2.294</td>\n",
       "      <td>4.812</td>\n",
       "      <td>6.000</td>\n",
       "    </tr>\n",
       "    <tr>\n",
       "      <th>4</th>\n",
       "      <td>Australia</td>\n",
       "      <td>AU</td>\n",
       "      <td>77</td>\n",
       "      <td>1.419</td>\n",
       "      <td>8.363</td>\n",
       "      <td>1.713</td>\n",
       "    </tr>\n",
       "    <tr>\n",
       "      <th>...</th>\n",
       "      <td>...</td>\n",
       "      <td>...</td>\n",
       "      <td>...</td>\n",
       "      <td>...</td>\n",
       "      <td>...</td>\n",
       "      <td>...</td>\n",
       "    </tr>\n",
       "    <tr>\n",
       "      <th>116</th>\n",
       "      <td>Uruguay</td>\n",
       "      <td>UY</td>\n",
       "      <td>71</td>\n",
       "      <td>1.711</td>\n",
       "      <td>6.329</td>\n",
       "      <td>0.400</td>\n",
       "    </tr>\n",
       "    <tr>\n",
       "      <th>117</th>\n",
       "      <td>Vietnam</td>\n",
       "      <td>VI</td>\n",
       "      <td>37</td>\n",
       "      <td>1.877</td>\n",
       "      <td>5.084</td>\n",
       "      <td>6.500</td>\n",
       "    </tr>\n",
       "    <tr>\n",
       "      <th>118</th>\n",
       "      <td>Yemen</td>\n",
       "      <td>YE</td>\n",
       "      <td>15</td>\n",
       "      <td>3.369</td>\n",
       "      <td>2.671</td>\n",
       "      <td>2.113</td>\n",
       "    </tr>\n",
       "    <tr>\n",
       "      <th>119</th>\n",
       "      <td>Zambia</td>\n",
       "      <td>ZM</td>\n",
       "      <td>34</td>\n",
       "      <td>1.805</td>\n",
       "      <td>4.592</td>\n",
       "      <td>2.021</td>\n",
       "    </tr>\n",
       "    <tr>\n",
       "      <th>120</th>\n",
       "      <td>Zimbabwe</td>\n",
       "      <td>ZW</td>\n",
       "      <td>24</td>\n",
       "      <td>2.463</td>\n",
       "      <td>3.738</td>\n",
       "      <td>-7.077</td>\n",
       "    </tr>\n",
       "  </tbody>\n",
       "</table>\n",
       "<p>121 rows × 6 columns</p>\n",
       "</div>"
      ],
      "text/plain": [
       "       Country Abbrev  Corruption  Peace  Legal  GDP Growth\n",
       "0      Albania     AL          35  1.821  4.546       2.983\n",
       "1      Algeria     DZ          35  2.219  4.435       2.553\n",
       "2    Argentina     AR          45  1.989  5.087      -3.061\n",
       "3      Armenia     AM          42  2.294  4.812       6.000\n",
       "4    Australia     AU          77  1.419  8.363       1.713\n",
       "..         ...    ...         ...    ...    ...         ...\n",
       "116    Uruguay     UY          71  1.711  6.329       0.400\n",
       "117    Vietnam     VI          37  1.877  5.084       6.500\n",
       "118      Yemen     YE          15  3.369  2.671       2.113\n",
       "119     Zambia     ZM          34  1.805  4.592       2.021\n",
       "120   Zimbabwe     ZW          24  2.463  3.738      -7.077\n",
       "\n",
       "[121 rows x 6 columns]"
      ]
     },
     "execution_count": 110,
     "metadata": {},
     "output_type": "execute_result"
    }
   ],
   "source": [
    "raw_data = pd.read_csv('C:\\\\Users\\\\Sophia\\\\Desktop\\\\Summer22Research\\\\Country Risk 2019 Data.csv')\n",
    "raw_data"
   ]
  },
  {
   "cell_type": "code",
   "execution_count": 111,
   "metadata": {},
   "outputs": [
    {
     "name": "stdout",
     "output_type": "stream",
     "text": [
      "\n",
      "Summary statistics\n",
      "        Corruption       Peace       Legal  GDP Growth\n",
      "count  121.000000  121.000000  121.000000  121.000000\n",
      "mean    46.842975    2.001017    5.752529    2.657529\n",
      "std     18.702499    0.461485    1.373932    2.563741\n",
      "min     15.000000    1.072000    2.671000   -9.459000\n",
      "25%     33.000000    1.699000    4.785000    1.249000\n",
      "50%     41.000000    1.939000    5.455000    2.600000\n",
      "75%     60.000000    2.294000    6.488000    4.000000\n",
      "max     87.000000    3.369000    8.712000    7.800000\n",
      "\n",
      "Correlation matrix\n",
      "             Corruption     Peace     Legal  GDP Growth\n",
      "Corruption    1.000000 -0.705002  0.938512   -0.123545\n",
      "Peace        -0.705002  1.000000 -0.662233   -0.004428\n",
      "Legal         0.938512 -0.662233  1.000000   -0.150369\n",
      "GDP Growth   -0.123545 -0.004428 -0.150369    1.000000\n"
     ]
    }
   ],
   "source": [
    "#summary statistics\n",
    "print(\"\\nSummary statistics\\n\", raw_data.describe())\n",
    "print(\"\\nCorrelation matrix\\n\", raw_data.corr())"
   ]
  },
  {
   "cell_type": "markdown",
   "metadata": {},
   "source": [
    "Since corruption and legal features are highly correlated, we can drop corruption and use the remaining 3 features for the analysis."
   ]
  },
  {
   "cell_type": "code",
   "execution_count": 112,
   "metadata": {},
   "outputs": [
    {
     "data": {
      "text/html": [
       "<div>\n",
       "<style scoped>\n",
       "    .dataframe tbody tr th:only-of-type {\n",
       "        vertical-align: middle;\n",
       "    }\n",
       "\n",
       "    .dataframe tbody tr th {\n",
       "        vertical-align: top;\n",
       "    }\n",
       "\n",
       "    .dataframe thead th {\n",
       "        text-align: right;\n",
       "    }\n",
       "</style>\n",
       "<table border=\"1\" class=\"dataframe\">\n",
       "  <thead>\n",
       "    <tr style=\"text-align: right;\">\n",
       "      <th></th>\n",
       "      <th>Peace</th>\n",
       "      <th>Legal</th>\n",
       "      <th>GDP Growth</th>\n",
       "    </tr>\n",
       "  </thead>\n",
       "  <tbody>\n",
       "    <tr>\n",
       "      <th>0</th>\n",
       "      <td>-0.390081</td>\n",
       "      <td>-0.878158</td>\n",
       "      <td>0.126952</td>\n",
       "    </tr>\n",
       "    <tr>\n",
       "      <th>1</th>\n",
       "      <td>0.472352</td>\n",
       "      <td>-0.958948</td>\n",
       "      <td>-0.040772</td>\n",
       "    </tr>\n",
       "    <tr>\n",
       "      <th>2</th>\n",
       "      <td>-0.026039</td>\n",
       "      <td>-0.484397</td>\n",
       "      <td>-2.230541</td>\n",
       "    </tr>\n",
       "    <tr>\n",
       "      <th>3</th>\n",
       "      <td>0.634871</td>\n",
       "      <td>-0.684553</td>\n",
       "      <td>1.303747</td>\n",
       "    </tr>\n",
       "    <tr>\n",
       "      <th>4</th>\n",
       "      <td>-1.261182</td>\n",
       "      <td>1.900001</td>\n",
       "      <td>-0.368418</td>\n",
       "    </tr>\n",
       "    <tr>\n",
       "      <th>...</th>\n",
       "      <td>...</td>\n",
       "      <td>...</td>\n",
       "      <td>...</td>\n",
       "    </tr>\n",
       "    <tr>\n",
       "      <th>116</th>\n",
       "      <td>-0.628442</td>\n",
       "      <td>0.419578</td>\n",
       "      <td>-0.880560</td>\n",
       "    </tr>\n",
       "    <tr>\n",
       "      <th>117</th>\n",
       "      <td>-0.268734</td>\n",
       "      <td>-0.486581</td>\n",
       "      <td>1.498775</td>\n",
       "    </tr>\n",
       "    <tr>\n",
       "      <th>118</th>\n",
       "      <td>2.964307</td>\n",
       "      <td>-2.242855</td>\n",
       "      <td>-0.212396</td>\n",
       "    </tr>\n",
       "    <tr>\n",
       "      <th>119</th>\n",
       "      <td>-0.424752</td>\n",
       "      <td>-0.844677</td>\n",
       "      <td>-0.248281</td>\n",
       "    </tr>\n",
       "    <tr>\n",
       "      <th>120</th>\n",
       "      <td>1.001080</td>\n",
       "      <td>-1.466251</td>\n",
       "      <td>-3.797001</td>\n",
       "    </tr>\n",
       "  </tbody>\n",
       "</table>\n",
       "<p>121 rows × 3 columns</p>\n",
       "</div>"
      ],
      "text/plain": [
       "        Peace     Legal  GDP Growth\n",
       "0   -0.390081 -0.878158    0.126952\n",
       "1    0.472352 -0.958948   -0.040772\n",
       "2   -0.026039 -0.484397   -2.230541\n",
       "3    0.634871 -0.684553    1.303747\n",
       "4   -1.261182  1.900001   -0.368418\n",
       "..        ...       ...         ...\n",
       "116 -0.628442  0.419578   -0.880560\n",
       "117 -0.268734 -0.486581    1.498775\n",
       "118  2.964307 -2.242855   -0.212396\n",
       "119 -0.424752 -0.844677   -0.248281\n",
       "120  1.001080 -1.466251   -3.797001\n",
       "\n",
       "[121 rows x 3 columns]"
      ]
     },
     "execution_count": 112,
     "metadata": {},
     "output_type": "execute_result"
    }
   ],
   "source": [
    "#normalizing all features to make them equally weighted\n",
    "data = raw_data[['Peace', 'Legal', 'GDP Growth']]\n",
    "data = (data - data.mean())/data.std()\n",
    "data"
   ]
  },
  {
   "cell_type": "markdown",
   "metadata": {},
   "source": [
    "Silhouette Analysis to determine value of K (number of clusters) to choose."
   ]
  },
  {
   "cell_type": "code",
   "execution_count": 113,
   "metadata": {},
   "outputs": [
    {
     "name": "stdout",
     "output_type": "stream",
     "text": [
      "For 2 clusters, the average silhouette_score is : 0.350913952385216\n",
      "For 3 clusters, the average silhouette_score is : 0.36018818321478785\n",
      "For 4 clusters, the average silhouette_score is : 0.3396528908669481\n",
      "For 5 clusters, the average silhouette_score is : 0.3443842097739338\n",
      "For 6 clusters, the average silhouette_score is : 0.34771309340459694\n",
      "For 7 clusters, the average silhouette_score is : 0.35497852344070874\n",
      "For 8 clusters, the average silhouette_score is : 0.3554792385881377\n",
      "For 9 clusters, the average silhouette_score is : 0.3322195951047023\n",
      "For 10 clusters, the average silhouette_score is : 0.3424328346243841\n",
      "\n",
      "The maximum silhouette score is  0.36018818321478785 at k = 3\n"
     ]
    }
   ],
   "source": [
    "k_range = range(2,11)\n",
    "max_silhouette_score = [0,0]\n",
    "for k in k_range:\n",
    "    km = KMeans(k, random_state=1)\n",
    "    cluster_labels= km.fit_predict(data)\n",
    "    silhouette_avg=silhouette_score(data,cluster_labels)\n",
    "    print(\"For\", k, \"clusters, the average silhouette_score is :\", silhouette_avg)\n",
    "    if (silhouette_avg > max_silhouette_score[1]):\n",
    "        max_silhouette_score[0] = k\n",
    "        max_silhouette_score[1] = silhouette_avg\n",
    "\n",
    "print(\"\\nThe maximum silhouette score is \", max_silhouette_score[1], \"at k =\",max_silhouette_score[0] )        "
   ]
  },
  {
   "cell_type": "markdown",
   "metadata": {},
   "source": [
    "Performing elbow method to determine value of K (number of clusters) to choose."
   ]
  },
  {
   "cell_type": "code",
   "execution_count": 114,
   "metadata": {},
   "outputs": [
    {
     "data": {
      "text/plain": [
       "Text(0.5, 1.0, 'Elbow Method to Find K')"
      ]
     },
     "execution_count": 114,
     "metadata": {},
     "output_type": "execute_result"
    },
    {
     "data": {
      "image/png": "[encoded data removed]",
      "text/plain": [
       "<Figure size 432x288 with 1 Axes>"
      ]
     },
     "metadata": {
      "needs_background": "light"
     },
     "output_type": "display_data"
    }
   ],
   "source": [
    "k_range = range(1,11)\n",
    "\n",
    "inertia = [KMeans(i).fit(data).inertia_ for i in k_range]\n",
    "\n",
    "plt.plot(k_range,inertia, marker = '.')\n",
    "plt.xlabel('Number of Clusters')\n",
    "plt.ylabel('Inertia (within-cluster sum of squares)')\n",
    "plt.title('Elbow Method to Find K')"
   ]
  },
  {
   "cell_type": "markdown",
   "metadata": {},
   "source": [
    "K-means clustering, choosing k = 3"
   ]
  },
  {
   "cell_type": "code",
   "execution_count": 126,
   "metadata": {},
   "outputs": [
    {
     "name": "stdout",
     "output_type": "stream",
     "text": [
      "Choosing k = 3, the within-cluster sum of squares is 161.40859912320002\n",
      "The 3 cluster centers are:  [[ 1.35385404 -0.83412368 -1.11084884]\n",
      " [ 0.2194138  -0.55102769  0.60381864]\n",
      " [-0.85097477  1.02149992 -0.23897931]]\n"
     ]
    }
   ],
   "source": [
    "kmeans = KMeans(n_clusters = 3, random_state = 1)\n",
    "kmeans.fit(data)\n",
    "centers = kmeans.cluster_centers_\n",
    "\n",
    "print(\"Choosing k = 3, the within-cluster sum of squares is\", kmeans.inertia_)\n",
    "print(\"The 3 cluster centers are: \", centers)\n",
    "\n",
    "clustered = kmeans.labels_\n"
   ]
  },
  {
   "cell_type": "markdown",
   "metadata": {},
   "source": [
    "Visualizing Results- 3D plot"
   ]
  },
  {
   "cell_type": "code",
   "execution_count": 127,
   "metadata": {},
   "outputs": [
    {
     "data": {
      "image/png": "[encoded data removed]",
      "text/plain": [
       "<Figure size 432x288 with 1 Axes>"
      ]
     },
     "metadata": {
      "needs_background": "light"
     },
     "output_type": "display_data"
    }
   ],
   "source": [
    "norm = clrs.Normalize(vmin=0.,vmax=y.max() + 0.8)\n",
    "cmap = cm.viridis\n",
    "\n",
    "fig = plt.figure()\n",
    "\n",
    "ax = fig.add_subplot(111,projection='3d') #add first subplot in layout that has 1  row and 1 column\n",
    "\n",
    "ax.scatter(data.iloc[:,0], data.iloc[:,1], data.iloc[:,2], c=cmap(norm(clustered)), marker='o')\n",
    "#c = parameter containing sequence of colours\n",
    "\n",
    "centers = kmeans.cluster_centers_\n",
    "ax.scatter(centers[:, 0], centers[:, 1], c='black', s=100, alpha=0.5)\n",
    "# s = size of marker\n",
    "# alpha = parameter to blend values between 0 (transparent) and 1 (opaque)\n",
    "\n",
    "ax.set_xlabel('Peace')\n",
    "ax.set_ylabel('Legal')\n",
    "ax.set_zlabel('GDP Growth')\n",
    "\n",
    "plt.show()\n"
   ]
  },
  {
   "cell_type": "markdown",
   "metadata": {},
   "source": [
    "Visualizing Results- 2D Plots"
   ]
  },
  {
   "cell_type": "code",
   "execution_count": 128,
   "metadata": {},
   "outputs": [
    {
     "data": {
      "image/png": "[encoded data removed]",
      "text/plain": [
       "<Figure size 432x288 with 1 Axes>"
      ]
     },
     "metadata": {
      "needs_background": "light"
     },
     "output_type": "display_data"
    },
    {
     "data": {
      "image/png": "[encoded data removed]",
      "text/plain": [
       "<Figure size 432x288 with 1 Axes>"
      ]
     },
     "metadata": {
      "needs_background": "light"
     },
     "output_type": "display_data"
    },
    {
     "data": {
      "image/png": "[encoded data removed]",
      "text/plain": [
       "<Figure size 432x288 with 1 Axes>"
      ]
     },
     "metadata": {
      "needs_background": "light"
     },
     "output_type": "display_data"
    }
   ],
   "source": [
    "labels = ['Peace', 'Legal', 'GDP Growth']\n",
    "figures = [(0,1), (0,2), (1,2)]\n",
    "\n",
    "for i in range(3):\n",
    "    fig = plt.figure(i)\n",
    "    plt.scatter(data.iloc[:,figures[i][0]],data.iloc[:,figures[i][1]], c = cmap(norm(y)))\n",
    "    \n",
    "    plt.scatter(centers[:,figures[i][0]], centers[:,figures[i][1]],c='black', s=200, alpha=0.5)\n",
    "    plt.xlabel(labels[figures[i][0]])\n",
    "    plt.ylabel(labels[figures[i][1]])\n",
    "\n",
    " \n",
    "plt.show()"
   ]
  },
  {
   "cell_type": "code",
   "execution_count": 136,
   "metadata": {},
   "outputs": [
    {
     "name": "stdout",
     "output_type": "stream",
     "text": [
      "                          Country Abbrev  Label\n",
      "60                        Lebanon     LB      0\n",
      "118                         Yemen     YE      0\n",
      "112                       Ukraine     UA      0\n",
      "110                        Turkey     TR      0\n",
      "108           Trinidad and Tobago     TT      0\n",
      "99                   South Africa     ZA      0\n",
      "92                   Saudi Arabia     SA      0\n",
      "90                         Russia     RU      0\n",
      "81                       Pakistan     PK      0\n",
      "78                        Nigeria     NG      0\n",
      "77                      Nicaragua     NI      0\n",
      "69                         Mexico     MX      0\n",
      "48                           Iran     IR      0\n",
      "30                        Ecuador     EC      0\n",
      "27   Democratic Republic of Congo     CD      0\n",
      "19                           Chad     TD      0\n",
      "120                      Zimbabwe     ZW      0\n",
      "2                       Argentina     AR      0\n",
      "16                        Burundi     BI      0\n",
      "14                         Brazil     BR      0\n",
      "17                       Cameroon     CM      1\n",
      "8                      Bangladesh     BD      1\n",
      "10                          Benin     BJ      1\n",
      "74                          Nepal     NP      1\n",
      "73                     Mozambique     MZ      1\n",
      "72                        Morocco     MA      1\n",
      "71                     Montenegro     ME      1\n",
      "70                        Moldova     FM      1\n",
      "11                        Bolivia     BO      1\n",
      "67                     Mauritania     MR      1\n",
      "66                           Mali     ML      1\n",
      "64                         Malawi     MW      1\n",
      "63                     Madagascar     MG      1\n",
      "61                        Liberia     LR      1\n",
      "82                         Panama     PA      1\n",
      "83                       Paraguay     PY      1\n",
      "85                    Philippines     PH      1\n",
      "119                        Zambia     ZM      1\n",
      "1                         Algeria     DZ      1\n",
      "117                       Vietnam     VI      1\n",
      "111                        Uganda     UG      1\n",
      "3                         Armenia     AM      1\n",
      "109                       Tunisia     TN      1\n",
      "107          The FYR of Macedonia     MK      1\n",
      "106                      Thailand     TH      1\n",
      "105                      Tanzania     TZ      1\n",
      "101                     Sri Lanka     LK      1\n",
      "95                   Sierra Leone     SL      1\n",
      "94                         Serbia     RS      1\n",
      "93                        Senegal     SN      1\n",
      "6                      Azerbaijan     AZ      1\n",
      "91                         Rwanda     RW      1\n",
      "7                         Bahrain     BH      1\n",
      "84                           Peru     PE      1\n",
      "56                          Kenya     KE      1\n",
      "0                         Albania     AL      1\n",
      "24                        Croatia     HR      1\n",
      "32                    El Salvador     SV      1\n",
      "34                       Ethiopia     ET      1\n",
      "55                     Kazakhstan     KZ      1\n",
      "37                          Gabon     GA      1\n",
      "38                        Georgia     GE      1\n",
      "40                          Ghana     GH      1\n",
      "31                          Egypt     EG      1\n",
      "41                         Greece     GR      1\n",
      "42                      Guatemala     GT      1\n",
      "43                       Honduras     HN      1\n",
      "46                          India     IN      1\n",
      "29             Dominican Republic     DO      1\n",
      "12         Bosnia and Herzegovina     BA      1\n",
      "22                       Colombia     CO      1\n",
      "21                          China     CN      1\n",
      "50                         Israel     IL      1\n",
      "15                       Bulgaria     BG      1\n",
      "47                      Indonesia     ID      1\n",
      "18                         Canada     CA      2\n",
      "96                      Singapore     SG      2\n",
      "97                       Slovakia     SK      2\n",
      "116                       Uruguay     UY      2\n",
      "98                       Slovenia     SI      2\n",
      "5                         Austria     AT      2\n",
      "100                         Spain     ES      2\n",
      "28                        Denmark     DK      2\n",
      "102                        Sweden     SE      2\n",
      "114                United Kingdom     GB      2\n",
      "103                   Switzerland     CH      2\n",
      "104                        Taiwan     SY      2\n",
      "26                 Czech Republic     CZ      2\n",
      "113          United Arab Emirates     AE      2\n",
      "25                         Cyprus     CY      2\n",
      "20                          Chile     CL      2\n",
      "4                       Australia     AU      2\n",
      "23                     Costa Rica     CR      2\n",
      "115                 United States     US      2\n",
      "54                         Jordan     JO      2\n",
      "88                          Qatar     QA      2\n",
      "33                        Estonia     EE      2\n",
      "57                  Korea (South)     KI      2\n",
      "58                         Kuwait     KW      2\n",
      "59                         Latvia     LV      2\n",
      "53                          Japan     JP      2\n",
      "52                        Jamaica     JM      2\n",
      "62                      Lithuania     LT      2\n",
      "51                          Italy     IT      2\n",
      "65                       Malaysia     MY      2\n",
      "49                        Ireland     IE      2\n",
      "45                        Iceland     IS      2\n",
      "13                       Botswana     BW      2\n",
      "44                        Hungary     HU      2\n",
      "76                    New Zealand     NZ      2\n",
      "9                         Belgium     BE      2\n",
      "79                         Norway     NO      2\n",
      "80                           Oman     OM      2\n",
      "39                        Germany     DE      2\n",
      "36                         France     FR      2\n",
      "35                        Finland     FI      2\n",
      "86                         Poland     PL      2\n",
      "87                       Portugal     PT      2\n",
      "89                        Romania     RO      2\n",
      "75                    Netherlands     NL      2\n",
      "68                      Mauritius     MU      2\n"
     ]
    }
   ],
   "source": [
    "result = pd.DataFrame({'Country':raw_data['Country'], 'Abbrev':raw_data['Abbrev'], 'Label':clustered})\n",
    "with pd.option_context('display.max_rows', None, 'display.max_columns', 3): #expand display frame\n",
    "    print(result.sort_values('Label')) #sort display by label"
   ]
  }
 ],
 "metadata": {
  "kernelspec": {
   "display_name": "Python 3",
   "language": "python",
   "name": "python3"
  },
  "language_info": {
   "codemirror_mode": {
    "name": "ipython",
    "version": 3
   },
   "file_extension": ".py",
   "mimetype": "text/x-python",
   "name": "python",
   "nbconvert_exporter": "python",
   "pygments_lexer": "ipython3",
   "version": "3.8.5"
  }
 },
 "nbformat": 4,
 "nbformat_minor": 4
}
